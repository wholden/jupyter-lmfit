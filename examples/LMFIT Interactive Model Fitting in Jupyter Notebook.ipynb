{
 "cells": [
  {
   "cell_type": "markdown",
   "metadata": {},
   "source": [
    "# Import LmfitWidget and set up matplotlib"
   ]
  },
  {
   "cell_type": "code",
   "execution_count": 1,
   "metadata": {},
   "outputs": [],
   "source": [
    "from ipylmfit import LmfitWidget"
   ]
  },
  {
   "cell_type": "code",
   "execution_count": 2,
   "metadata": {},
   "outputs": [],
   "source": [
    "%matplotlib widget\n",
    "\n",
    "import matplotlib.pyplot as plt\n",
    "plt.ioff()"
   ]
  },
  {
   "cell_type": "markdown",
   "metadata": {},
   "source": [
    "# Create the widget and render"
   ]
  },
  {
   "cell_type": "code",
   "execution_count": 3,
   "metadata": {},
   "outputs": [],
   "source": [
    "from scipy.stats import norm\n",
    "import numpy as np"
   ]
  },
  {
   "cell_type": "code",
   "execution_count": 4,
   "metadata": {},
   "outputs": [],
   "source": [
    "# Some example data\n",
    "x = np.linspace(0, 10, 100)\n",
    "y = norm(loc=5).pdf(x) + np.exp(-x) + np.random.rand(len(x)) * 0.2"
   ]
  },
  {
   "cell_type": "code",
   "execution_count": 5,
   "metadata": {
    "scrolled": false
   },
   "outputs": [
    {
     "data": {
      "application/vnd.jupyter.widget-view+json": {
       "model_id": "207d6ad9b36c4adbbc8dcee8116339e8",
       "version_major": 2,
       "version_minor": 0
      },
      "text/plain": [
       "VBox(children=(HBox(children=(Dropdown(description='Model:', options={'ConstantModel': <class 'lmfit.models.Co…"
      ]
     },
     "metadata": {},
     "output_type": "display_data"
    }
   ],
   "source": [
    "fitter = LmfitWidget(y, x)\n",
    "fitter.render()"
   ]
  },
  {
   "cell_type": "markdown",
   "metadata": {},
   "source": [
    "# Access the fit output from the widget object"
   ]
  },
  {
   "cell_type": "code",
   "execution_count": 6,
   "metadata": {},
   "outputs": [
    {
     "data": {
      "text/html": [
       "<table><tr><th>name</th><th>value</th><th></th><th>error</th><th>rel. error</th><th>min</th><th>max</th><th>vary</th><th>expr.</th></tr><tr><td>gaussian0_sigma</td><td>1.313862</td><td>+/-</td><td>0.072226</td><td>5.50%</td><td>0.000000</td><td>inf</td><td>True</td><td></td></tr><tr><td>gaussian0_center</td><td>5.045842</td><td>+/-</td><td>0.069384</td><td>1.38%</td><td>-inf</td><td>inf</td><td>True</td><td></td></tr><tr><td>gaussian0_amplitude</td><td>1.545837</td><td>+/-</td><td>0.078782</td><td>5.10%</td><td>-inf</td><td>inf</td><td>True</td><td></td></tr><tr><td>gaussian0_fwhm</td><td>3.093909</td><td>+/-</td><td>0.170079</td><td>5.50%</td><td>-inf</td><td>inf</td><td>False</td><td>2.3548200*gaussian0_sigma</td></tr><tr><td>gaussian0_height</td><td>0.469379</td><td>+/-</td><td>0.019335</td><td>4.12%</td><td>-inf</td><td>inf</td><td>False</td><td>0.3989423*gaussian0_amplitude/max(1.e-15, gaussian0_sigma)</td></tr><tr><td>exponential1_decay</td><td>1.174367</td><td>+/-</td><td>0.087157</td><td>7.42%</td><td>-inf</td><td>inf</td><td>True</td><td></td></tr><tr><td>exponential1_amplitude</td><td>1.071065</td><td>+/-</td><td>0.043704</td><td>4.08%</td><td>-inf</td><td>inf</td><td>True</td><td></td></tr></table>"
      ],
      "text/plain": [
       "<IPython.core.display.HTML object>"
      ]
     },
     "execution_count": 6,
     "metadata": {},
     "output_type": "execute_result"
    }
   ],
   "source": [
    "fitter.show_fit_params()"
   ]
  },
  {
   "cell_type": "code",
   "execution_count": null,
   "metadata": {},
   "outputs": [],
   "source": []
  }
 ],
 "metadata": {
  "kernelspec": {
   "display_name": "Python 3",
   "language": "python",
   "name": "python3"
  },
  "language_info": {
   "codemirror_mode": {
    "name": "ipython",
    "version": 3
   },
   "file_extension": ".py",
   "mimetype": "text/x-python",
   "name": "python",
   "nbconvert_exporter": "python",
   "pygments_lexer": "ipython3",
   "version": "3.7.2"
  }
 },
 "nbformat": 4,
 "nbformat_minor": 2
}
